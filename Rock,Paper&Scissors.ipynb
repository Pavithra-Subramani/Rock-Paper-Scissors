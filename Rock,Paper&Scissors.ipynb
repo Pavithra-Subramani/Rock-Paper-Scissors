{
 "cells": [
  {
   "cell_type": "code",
   "execution_count": 6,
   "id": "10904256",
   "metadata": {},
   "outputs": [
    {
     "name": "stdout",
     "output_type": "stream",
     "text": [
      "Enter your choice (rock, paper, scissors): Paper\n",
      "\n",
      "Computer chose: rock\n",
      "You chose: paper\n",
      "You win!\n",
      "Do you want to play again? (yes/no): yes\n",
      "Enter your choice (rock, paper, scissors): Rock\n",
      "\n",
      "Computer chose: rock\n",
      "You chose: rock\n",
      "It's a tie!\n",
      "Do you want to play again? (yes/no): yes\n",
      "Enter your choice (rock, paper, scissors): scissors\n",
      "\n",
      "Computer chose: rock\n",
      "You chose: scissors\n",
      "Computer wins!\n",
      "Do you want to play again? (yes/no): no\n",
      "Thank you Good bye!\n"
     ]
    }
   ],
   "source": [
    "import random\n",
    "\n",
    "def rock_paper_scissors():\n",
    "    choices = ['rock', 'paper', 'scissors']\n",
    "    \n",
    "    while True:\n",
    "        computer_choice = random.choice(choices)\n",
    "        user_choice = input(\"Enter your choice (rock, paper, scissors): \").lower()\n",
    "        \n",
    "        if user_choice in choices:\n",
    "            print(f\"\\nComputer chose: {computer_choice}\")\n",
    "            print(f\"You chose: {user_choice}\")\n",
    "\n",
    "            if user_choice == computer_choice:\n",
    "                print(\"It's a tie!\")\n",
    "            elif (user_choice == 'rock' and computer_choice == 'scissors') or \\\n",
    "                 (user_choice == 'paper' and computer_choice == 'rock') or \\\n",
    "                 (user_choice == 'scissors' and computer_choice == 'paper'):\n",
    "                print(\"You win!\")\n",
    "            else:\n",
    "                print(\"Computer wins!\")\n",
    "        else:\n",
    "            print(\"Invalid choice. Please choose from rock, paper, or scissors.\")\n",
    "        \n",
    "        play_again = input(\"Do you want to play again? (yes/no): \").lower()\n",
    "        if play_again != 'yes':\n",
    "            print(\"Thank you Good bye!\")\n",
    "            break\n",
    "\n",
    "\n",
    "rock_paper_scissors()\n"
   ]
  },
  {
   "cell_type": "code",
   "execution_count": null,
   "id": "afd3fd43",
   "metadata": {},
   "outputs": [],
   "source": []
  }
 ],
 "metadata": {
  "kernelspec": {
   "display_name": "Python 3 (ipykernel)",
   "language": "python",
   "name": "python3"
  },
  "language_info": {
   "codemirror_mode": {
    "name": "ipython",
    "version": 3
   },
   "file_extension": ".py",
   "mimetype": "text/x-python",
   "name": "python",
   "nbconvert_exporter": "python",
   "pygments_lexer": "ipython3",
   "version": "3.11.3"
  }
 },
 "nbformat": 4,
 "nbformat_minor": 5
}
